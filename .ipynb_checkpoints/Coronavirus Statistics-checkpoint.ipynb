{
 "cells": [
  {
   "cell_type": "markdown",
   "metadata": {},
   "source": [
    "# Coronavirus Statistics."
   ]
  },
  {
   "cell_type": "code",
   "execution_count": 1,
   "metadata": {},
   "outputs": [],
   "source": [
    "# Import libraries.\n",
    "import numpy as np\n",
    "import pandas as pd\n",
    "import matplotlib.pyplot as plt\n",
    "import datetime\n",
    "import folium\n",
    "import seaborn as sns\n",
    "\n",
    "sns.set()\n",
    "\n",
    "# Graphics in retina format are more sharp and legible\n",
    "%config InlineBackend.figure_format = 'retina' "
   ]
  },
  {
   "cell_type": "markdown",
   "metadata": {},
   "source": [
    "## 1. Load Data"
   ]
  },
  {
   "cell_type": "code",
   "execution_count": 2,
   "metadata": {},
   "outputs": [
    {
     "data": {
      "text/html": [
       "<div>\n",
       "<style scoped>\n",
       "    .dataframe tbody tr th:only-of-type {\n",
       "        vertical-align: middle;\n",
       "    }\n",
       "\n",
       "    .dataframe tbody tr th {\n",
       "        vertical-align: top;\n",
       "    }\n",
       "\n",
       "    .dataframe thead th {\n",
       "        text-align: right;\n",
       "    }\n",
       "</style>\n",
       "<table border=\"1\" class=\"dataframe\">\n",
       "  <thead>\n",
       "    <tr style=\"text-align: right;\">\n",
       "      <th></th>\n",
       "      <th>Country/Region</th>\n",
       "      <th>Lat</th>\n",
       "      <th>Long</th>\n",
       "      <th>1/22/20</th>\n",
       "      <th>1/23/20</th>\n",
       "      <th>1/24/20</th>\n",
       "      <th>1/25/20</th>\n",
       "      <th>1/26/20</th>\n",
       "      <th>1/27/20</th>\n",
       "      <th>1/28/20</th>\n",
       "      <th>...</th>\n",
       "      <th>3/26/20</th>\n",
       "      <th>3/27/20</th>\n",
       "      <th>3/28/20</th>\n",
       "      <th>3/29/20</th>\n",
       "      <th>3/30/20</th>\n",
       "      <th>3/31/20</th>\n",
       "      <th>4/1/20</th>\n",
       "      <th>4/2/20</th>\n",
       "      <th>4/3/20</th>\n",
       "      <th>4/4/20</th>\n",
       "    </tr>\n",
       "  </thead>\n",
       "  <tbody>\n",
       "    <tr>\n",
       "      <th>0</th>\n",
       "      <td>Afghanistan</td>\n",
       "      <td>33.0000</td>\n",
       "      <td>65.0000</td>\n",
       "      <td>0</td>\n",
       "      <td>0</td>\n",
       "      <td>0</td>\n",
       "      <td>0</td>\n",
       "      <td>0</td>\n",
       "      <td>0</td>\n",
       "      <td>0</td>\n",
       "      <td>...</td>\n",
       "      <td>94</td>\n",
       "      <td>110</td>\n",
       "      <td>110</td>\n",
       "      <td>120</td>\n",
       "      <td>170</td>\n",
       "      <td>174</td>\n",
       "      <td>237</td>\n",
       "      <td>273</td>\n",
       "      <td>281</td>\n",
       "      <td>299</td>\n",
       "    </tr>\n",
       "    <tr>\n",
       "      <th>1</th>\n",
       "      <td>Albania</td>\n",
       "      <td>41.1533</td>\n",
       "      <td>20.1683</td>\n",
       "      <td>0</td>\n",
       "      <td>0</td>\n",
       "      <td>0</td>\n",
       "      <td>0</td>\n",
       "      <td>0</td>\n",
       "      <td>0</td>\n",
       "      <td>0</td>\n",
       "      <td>...</td>\n",
       "      <td>174</td>\n",
       "      <td>186</td>\n",
       "      <td>197</td>\n",
       "      <td>212</td>\n",
       "      <td>223</td>\n",
       "      <td>243</td>\n",
       "      <td>259</td>\n",
       "      <td>277</td>\n",
       "      <td>304</td>\n",
       "      <td>333</td>\n",
       "    </tr>\n",
       "    <tr>\n",
       "      <th>2</th>\n",
       "      <td>Algeria</td>\n",
       "      <td>28.0339</td>\n",
       "      <td>1.6596</td>\n",
       "      <td>0</td>\n",
       "      <td>0</td>\n",
       "      <td>0</td>\n",
       "      <td>0</td>\n",
       "      <td>0</td>\n",
       "      <td>0</td>\n",
       "      <td>0</td>\n",
       "      <td>...</td>\n",
       "      <td>367</td>\n",
       "      <td>409</td>\n",
       "      <td>454</td>\n",
       "      <td>511</td>\n",
       "      <td>584</td>\n",
       "      <td>716</td>\n",
       "      <td>847</td>\n",
       "      <td>986</td>\n",
       "      <td>1171</td>\n",
       "      <td>1251</td>\n",
       "    </tr>\n",
       "    <tr>\n",
       "      <th>3</th>\n",
       "      <td>Andorra</td>\n",
       "      <td>42.5063</td>\n",
       "      <td>1.5218</td>\n",
       "      <td>0</td>\n",
       "      <td>0</td>\n",
       "      <td>0</td>\n",
       "      <td>0</td>\n",
       "      <td>0</td>\n",
       "      <td>0</td>\n",
       "      <td>0</td>\n",
       "      <td>...</td>\n",
       "      <td>224</td>\n",
       "      <td>267</td>\n",
       "      <td>308</td>\n",
       "      <td>334</td>\n",
       "      <td>370</td>\n",
       "      <td>376</td>\n",
       "      <td>390</td>\n",
       "      <td>428</td>\n",
       "      <td>439</td>\n",
       "      <td>466</td>\n",
       "    </tr>\n",
       "    <tr>\n",
       "      <th>4</th>\n",
       "      <td>Angola</td>\n",
       "      <td>-11.2027</td>\n",
       "      <td>17.8739</td>\n",
       "      <td>0</td>\n",
       "      <td>0</td>\n",
       "      <td>0</td>\n",
       "      <td>0</td>\n",
       "      <td>0</td>\n",
       "      <td>0</td>\n",
       "      <td>0</td>\n",
       "      <td>...</td>\n",
       "      <td>4</td>\n",
       "      <td>4</td>\n",
       "      <td>5</td>\n",
       "      <td>7</td>\n",
       "      <td>7</td>\n",
       "      <td>7</td>\n",
       "      <td>8</td>\n",
       "      <td>8</td>\n",
       "      <td>8</td>\n",
       "      <td>10</td>\n",
       "    </tr>\n",
       "  </tbody>\n",
       "</table>\n",
       "<p>5 rows × 77 columns</p>\n",
       "</div>"
      ],
      "text/plain": [
       "  Country/Region      Lat     Long  1/22/20  1/23/20  1/24/20  1/25/20  \\\n",
       "0    Afghanistan  33.0000  65.0000        0        0        0        0   \n",
       "1        Albania  41.1533  20.1683        0        0        0        0   \n",
       "2        Algeria  28.0339   1.6596        0        0        0        0   \n",
       "3        Andorra  42.5063   1.5218        0        0        0        0   \n",
       "4         Angola -11.2027  17.8739        0        0        0        0   \n",
       "\n",
       "   1/26/20  1/27/20  1/28/20  ...  3/26/20  3/27/20  3/28/20  3/29/20  \\\n",
       "0        0        0        0  ...       94      110      110      120   \n",
       "1        0        0        0  ...      174      186      197      212   \n",
       "2        0        0        0  ...      367      409      454      511   \n",
       "3        0        0        0  ...      224      267      308      334   \n",
       "4        0        0        0  ...        4        4        5        7   \n",
       "\n",
       "   3/30/20  3/31/20  4/1/20  4/2/20  4/3/20  4/4/20  \n",
       "0      170      174     237     273     281     299  \n",
       "1      223      243     259     277     304     333  \n",
       "2      584      716     847     986    1171    1251  \n",
       "3      370      376     390     428     439     466  \n",
       "4        7        7       8       8       8      10  \n",
       "\n",
       "[5 rows x 77 columns]"
      ]
     },
     "execution_count": 2,
     "metadata": {},
     "output_type": "execute_result"
    }
   ],
   "source": [
    "# Load confirmed data.\n",
    "data_confirmed = pd.read_csv(\"./dataset/time_series_covid19_confirmed_global.csv\")\n",
    "data_confirmed.drop(\"Province/State\", axis = 1, inplace = True)\n",
    "data_confirmed.head()"
   ]
  },
  {
   "cell_type": "code",
   "execution_count": 3,
   "metadata": {},
   "outputs": [
    {
     "data": {
      "text/html": [
       "<div>\n",
       "<style scoped>\n",
       "    .dataframe tbody tr th:only-of-type {\n",
       "        vertical-align: middle;\n",
       "    }\n",
       "\n",
       "    .dataframe tbody tr th {\n",
       "        vertical-align: top;\n",
       "    }\n",
       "\n",
       "    .dataframe thead th {\n",
       "        text-align: right;\n",
       "    }\n",
       "</style>\n",
       "<table border=\"1\" class=\"dataframe\">\n",
       "  <thead>\n",
       "    <tr style=\"text-align: right;\">\n",
       "      <th></th>\n",
       "      <th>Country/Region</th>\n",
       "      <th>Lat</th>\n",
       "      <th>Long</th>\n",
       "      <th>1/22/20</th>\n",
       "      <th>1/23/20</th>\n",
       "      <th>1/24/20</th>\n",
       "      <th>1/25/20</th>\n",
       "      <th>1/26/20</th>\n",
       "      <th>1/27/20</th>\n",
       "      <th>1/28/20</th>\n",
       "      <th>...</th>\n",
       "      <th>3/26/20</th>\n",
       "      <th>3/27/20</th>\n",
       "      <th>3/28/20</th>\n",
       "      <th>3/29/20</th>\n",
       "      <th>3/30/20</th>\n",
       "      <th>3/31/20</th>\n",
       "      <th>4/1/20</th>\n",
       "      <th>4/2/20</th>\n",
       "      <th>4/3/20</th>\n",
       "      <th>4/4/20</th>\n",
       "    </tr>\n",
       "  </thead>\n",
       "  <tbody>\n",
       "    <tr>\n",
       "      <th>0</th>\n",
       "      <td>Afghanistan</td>\n",
       "      <td>33.0000</td>\n",
       "      <td>65.0000</td>\n",
       "      <td>0</td>\n",
       "      <td>0</td>\n",
       "      <td>0</td>\n",
       "      <td>0</td>\n",
       "      <td>0</td>\n",
       "      <td>0</td>\n",
       "      <td>0</td>\n",
       "      <td>...</td>\n",
       "      <td>4</td>\n",
       "      <td>4</td>\n",
       "      <td>4</td>\n",
       "      <td>4</td>\n",
       "      <td>4</td>\n",
       "      <td>4</td>\n",
       "      <td>4</td>\n",
       "      <td>6</td>\n",
       "      <td>6</td>\n",
       "      <td>7</td>\n",
       "    </tr>\n",
       "    <tr>\n",
       "      <th>1</th>\n",
       "      <td>Albania</td>\n",
       "      <td>41.1533</td>\n",
       "      <td>20.1683</td>\n",
       "      <td>0</td>\n",
       "      <td>0</td>\n",
       "      <td>0</td>\n",
       "      <td>0</td>\n",
       "      <td>0</td>\n",
       "      <td>0</td>\n",
       "      <td>0</td>\n",
       "      <td>...</td>\n",
       "      <td>6</td>\n",
       "      <td>8</td>\n",
       "      <td>10</td>\n",
       "      <td>10</td>\n",
       "      <td>11</td>\n",
       "      <td>15</td>\n",
       "      <td>15</td>\n",
       "      <td>16</td>\n",
       "      <td>17</td>\n",
       "      <td>20</td>\n",
       "    </tr>\n",
       "    <tr>\n",
       "      <th>2</th>\n",
       "      <td>Algeria</td>\n",
       "      <td>28.0339</td>\n",
       "      <td>1.6596</td>\n",
       "      <td>0</td>\n",
       "      <td>0</td>\n",
       "      <td>0</td>\n",
       "      <td>0</td>\n",
       "      <td>0</td>\n",
       "      <td>0</td>\n",
       "      <td>0</td>\n",
       "      <td>...</td>\n",
       "      <td>25</td>\n",
       "      <td>26</td>\n",
       "      <td>29</td>\n",
       "      <td>31</td>\n",
       "      <td>35</td>\n",
       "      <td>44</td>\n",
       "      <td>58</td>\n",
       "      <td>86</td>\n",
       "      <td>105</td>\n",
       "      <td>130</td>\n",
       "    </tr>\n",
       "    <tr>\n",
       "      <th>3</th>\n",
       "      <td>Andorra</td>\n",
       "      <td>42.5063</td>\n",
       "      <td>1.5218</td>\n",
       "      <td>0</td>\n",
       "      <td>0</td>\n",
       "      <td>0</td>\n",
       "      <td>0</td>\n",
       "      <td>0</td>\n",
       "      <td>0</td>\n",
       "      <td>0</td>\n",
       "      <td>...</td>\n",
       "      <td>3</td>\n",
       "      <td>3</td>\n",
       "      <td>3</td>\n",
       "      <td>6</td>\n",
       "      <td>8</td>\n",
       "      <td>12</td>\n",
       "      <td>14</td>\n",
       "      <td>15</td>\n",
       "      <td>16</td>\n",
       "      <td>17</td>\n",
       "    </tr>\n",
       "    <tr>\n",
       "      <th>4</th>\n",
       "      <td>Angola</td>\n",
       "      <td>-11.2027</td>\n",
       "      <td>17.8739</td>\n",
       "      <td>0</td>\n",
       "      <td>0</td>\n",
       "      <td>0</td>\n",
       "      <td>0</td>\n",
       "      <td>0</td>\n",
       "      <td>0</td>\n",
       "      <td>0</td>\n",
       "      <td>...</td>\n",
       "      <td>0</td>\n",
       "      <td>0</td>\n",
       "      <td>0</td>\n",
       "      <td>2</td>\n",
       "      <td>2</td>\n",
       "      <td>2</td>\n",
       "      <td>2</td>\n",
       "      <td>2</td>\n",
       "      <td>2</td>\n",
       "      <td>2</td>\n",
       "    </tr>\n",
       "  </tbody>\n",
       "</table>\n",
       "<p>5 rows × 77 columns</p>\n",
       "</div>"
      ],
      "text/plain": [
       "  Country/Region      Lat     Long  1/22/20  1/23/20  1/24/20  1/25/20  \\\n",
       "0    Afghanistan  33.0000  65.0000        0        0        0        0   \n",
       "1        Albania  41.1533  20.1683        0        0        0        0   \n",
       "2        Algeria  28.0339   1.6596        0        0        0        0   \n",
       "3        Andorra  42.5063   1.5218        0        0        0        0   \n",
       "4         Angola -11.2027  17.8739        0        0        0        0   \n",
       "\n",
       "   1/26/20  1/27/20  1/28/20  ...  3/26/20  3/27/20  3/28/20  3/29/20  \\\n",
       "0        0        0        0  ...        4        4        4        4   \n",
       "1        0        0        0  ...        6        8       10       10   \n",
       "2        0        0        0  ...       25       26       29       31   \n",
       "3        0        0        0  ...        3        3        3        6   \n",
       "4        0        0        0  ...        0        0        0        2   \n",
       "\n",
       "   3/30/20  3/31/20  4/1/20  4/2/20  4/3/20  4/4/20  \n",
       "0        4        4       4       6       6       7  \n",
       "1       11       15      15      16      17      20  \n",
       "2       35       44      58      86     105     130  \n",
       "3        8       12      14      15      16      17  \n",
       "4        2        2       2       2       2       2  \n",
       "\n",
       "[5 rows x 77 columns]"
      ]
     },
     "execution_count": 3,
     "metadata": {},
     "output_type": "execute_result"
    }
   ],
   "source": [
    "# Load deaths data.\n",
    "data_deaths = pd.read_csv(\"./dataset/time_series_covid19_deaths_global.csv\")\n",
    "data_deaths.drop(\"Province/State\", axis = 1, inplace = True)\n",
    "data_deaths.head()"
   ]
  },
  {
   "cell_type": "markdown",
   "metadata": {},
   "source": [
    "## 2. General Characteristics (Confirmed Cases). \n",
    "### Topic 1. Introducción a Pandas."
   ]
  },
  {
   "cell_type": "code",
   "execution_count": 4,
   "metadata": {},
   "outputs": [
    {
     "data": {
      "text/plain": [
       "'4/4/20'"
      ]
     },
     "execution_count": 4,
     "metadata": {},
     "output_type": "execute_result"
    }
   ],
   "source": [
    "last_day = data_confirmed.columns[-1]\n",
    "last_day"
   ]
  },
  {
   "cell_type": "code",
   "execution_count": 5,
   "metadata": {},
   "outputs": [
    {
     "name": "stdout",
     "output_type": "stream",
     "text": [
      "Número de casos reportados a nivel mundial\n"
     ]
    },
    {
     "data": {
      "text/plain": [
       "1197405"
      ]
     },
     "execution_count": 5,
     "metadata": {},
     "output_type": "execute_result"
    }
   ],
   "source": [
    "print(\"Número de casos reportados a nivel mundial\")\n",
    "data_confirmed[last_day].sum()"
   ]
  },
  {
   "cell_type": "markdown",
   "metadata": {},
   "source": [
    "---\n",
    "\n",
    "Frecuencia (de un evento): es el número de veces en que dicho evento se repite durante un experimento o muestra estadística.\n",
    "\n",
    "**Moda:** Es el valor con mayor frecuencia en una de las distribuciones de datos.\n",
    "\n",
    "**Media**:\n",
    "\n",
    "$\\bar{X} = \\sum_{k=0}^{n}({X_{k} \\cdot \\frac{1}{n}})$\n",
    "\n",
    "<img src=\"https://upload.wikimedia.org/wikipedia/commons/thumb/3/33/Visualisation_mode_median_mean.svg/langes-220px-Visualisation_mode_median_mean.svg.png\">\n",
    "\n",
    "---\n",
    "\n",
    "**Varianza:** Es medida de dispersión que representa la variabilidad de una serie de datos respecto a su media. \n",
    "\n",
    "$\\sigma^2$: $\\sum_{k=0}^{n}{ ((X_{k} - \\bar{X})^2 \\cdot \\frac{1}{n}) }$\n",
    "\n",
    "**Desviación Estándar:** $\\sqrt{\\sigma^2}$\n",
    "\n",
    "**Covarianza:** Es un valor que indica el grado de variación conjunta de dos variables aleatorias respecto a sus medias. Es el dato básico para determinar si existe una dependencia entre ambas variables.\n",
    "\n",
    "$Cov_{xy} = \\sum_{k=1}^{n}((x_{i} - \\bar{x}) \\cdot (y_{i} - \\bar{y}) \\cdot \\frac{1}{n})$\n",
    "\n",
    "**Correlación:** Indica la fuerza y la dirección de una relación lineal y proporcionalidad entre dos variables estadísticas. Si tenemos dos variables (A y B) existe correlación entre ellas si al disminuir los valores de A lo hacen también los de B y viceversa. La correlación entre dos variables no implica, por sí misma, ninguna relación de causalidad\n",
    "\n",
    "$\\rho_{xy} = Cov_{xy} \\cdot (\\sigma_{x} \\cdot \\sigma_{y})^{-1}$\n",
    "\n",
    "<img src = \"https://uapas1.bunam.unam.mx/matematicas/datos_bivariados/images/img3.png\">\n",
    "\n",
    "**Preguntas.**\n",
    "\n",
    "1. ¿Cómo deberíamos manejar los datos atípicos?"
   ]
  },
  {
   "cell_type": "code",
   "execution_count": 6,
   "metadata": {},
   "outputs": [
    {
     "name": "stdout",
     "output_type": "stream",
     "text": [
      "Estadísticas del último día (sin filtros)\n"
     ]
    },
    {
     "data": {
      "text/plain": [
       "count       259.000000\n",
       "mean       4623.185328\n",
       "std       24162.383257\n",
       "min           0.000000\n",
       "25%          22.500000\n",
       "50%         201.000000\n",
       "75%        1004.500000\n",
       "max      308850.000000\n",
       "Name: 4/4/20, dtype: float64"
      ]
     },
     "execution_count": 6,
     "metadata": {},
     "output_type": "execute_result"
    }
   ],
   "source": [
    "print(\"Estadísticas del último día (sin filtros)\")\n",
    "data_confirmed[last_day].describe()"
   ]
  },
  {
   "cell_type": "code",
   "execution_count": 7,
   "metadata": {},
   "outputs": [
    {
     "name": "stdout",
     "output_type": "stream",
     "text": [
      "Digite el número de casos: 10000\n",
      "Estadísticas del último día (países con más de 10000 casos reportados)\n"
     ]
    },
    {
     "data": {
      "text/plain": [
       "count        16.000000\n",
       "mean      64591.375000\n",
       "std       77003.102207\n",
       "min       10156.000000\n",
       "25%       15415.500000\n",
       "50%       32918.500000\n",
       "75%       91487.750000\n",
       "max      308850.000000\n",
       "Name: 4/4/20, dtype: float64"
      ]
     },
     "execution_count": 7,
     "metadata": {},
     "output_type": "execute_result"
    }
   ],
   "source": [
    "cases = int(input(\"Digite el número de casos: \"))\n",
    "print(\"Estadísticas del último día (países con más de\", cases, \"casos reportados)\")\n",
    "data_confirmed[data_confirmed[last_day] > cases][last_day].describe()"
   ]
  },
  {
   "cell_type": "code",
   "execution_count": 22,
   "metadata": {},
   "outputs": [
    {
     "name": "stdout",
     "output_type": "stream",
     "text": [
      "Top 10 países a nivel mundial\n",
      "Ganador:  US\n"
     ]
    },
    {
     "data": {
      "text/html": [
       "<div>\n",
       "<style scoped>\n",
       "    .dataframe tbody tr th:only-of-type {\n",
       "        vertical-align: middle;\n",
       "    }\n",
       "\n",
       "    .dataframe tbody tr th {\n",
       "        vertical-align: top;\n",
       "    }\n",
       "\n",
       "    .dataframe thead th {\n",
       "        text-align: right;\n",
       "    }\n",
       "</style>\n",
       "<table border=\"1\" class=\"dataframe\">\n",
       "  <thead>\n",
       "    <tr style=\"text-align: right;\">\n",
       "      <th></th>\n",
       "      <th>Country/Region</th>\n",
       "      <th>4/4/20</th>\n",
       "    </tr>\n",
       "  </thead>\n",
       "  <tbody>\n",
       "    <tr>\n",
       "      <th>225</th>\n",
       "      <td>US</td>\n",
       "      <td>308850</td>\n",
       "    </tr>\n",
       "    <tr>\n",
       "      <th>201</th>\n",
       "      <td>Spain</td>\n",
       "      <td>126168</td>\n",
       "    </tr>\n",
       "    <tr>\n",
       "      <th>137</th>\n",
       "      <td>Italy</td>\n",
       "      <td>124632</td>\n",
       "    </tr>\n",
       "    <tr>\n",
       "      <th>120</th>\n",
       "      <td>Germany</td>\n",
       "      <td>96092</td>\n",
       "    </tr>\n",
       "    <tr>\n",
       "      <th>116</th>\n",
       "      <td>France</td>\n",
       "      <td>89953</td>\n",
       "    </tr>\n",
       "    <tr>\n",
       "      <th>62</th>\n",
       "      <td>China</td>\n",
       "      <td>67803</td>\n",
       "    </tr>\n",
       "    <tr>\n",
       "      <th>133</th>\n",
       "      <td>Iran</td>\n",
       "      <td>55743</td>\n",
       "    </tr>\n",
       "    <tr>\n",
       "      <th>223</th>\n",
       "      <td>United Kingdom</td>\n",
       "      <td>41903</td>\n",
       "    </tr>\n",
       "    <tr>\n",
       "      <th>213</th>\n",
       "      <td>Turkey</td>\n",
       "      <td>23934</td>\n",
       "    </tr>\n",
       "    <tr>\n",
       "      <th>206</th>\n",
       "      <td>Switzerland</td>\n",
       "      <td>20505</td>\n",
       "    </tr>\n",
       "    <tr>\n",
       "      <th>23</th>\n",
       "      <td>Belgium</td>\n",
       "      <td>18431</td>\n",
       "    </tr>\n",
       "    <tr>\n",
       "      <th>169</th>\n",
       "      <td>Netherlands</td>\n",
       "      <td>16627</td>\n",
       "    </tr>\n",
       "    <tr>\n",
       "      <th>16</th>\n",
       "      <td>Austria</td>\n",
       "      <td>11781</td>\n",
       "    </tr>\n",
       "    <tr>\n",
       "      <th>184</th>\n",
       "      <td>Portugal</td>\n",
       "      <td>10524</td>\n",
       "    </tr>\n",
       "    <tr>\n",
       "      <th>28</th>\n",
       "      <td>Brazil</td>\n",
       "      <td>10360</td>\n",
       "    </tr>\n",
       "    <tr>\n",
       "      <th>143</th>\n",
       "      <td>Korea, South</td>\n",
       "      <td>10156</td>\n",
       "    </tr>\n",
       "    <tr>\n",
       "      <th>136</th>\n",
       "      <td>Israel</td>\n",
       "      <td>7851</td>\n",
       "    </tr>\n",
       "    <tr>\n",
       "      <th>205</th>\n",
       "      <td>Sweden</td>\n",
       "      <td>6443</td>\n",
       "    </tr>\n",
       "    <tr>\n",
       "      <th>44</th>\n",
       "      <td>Canada</td>\n",
       "      <td>6101</td>\n",
       "    </tr>\n",
       "    <tr>\n",
       "      <th>175</th>\n",
       "      <td>Norway</td>\n",
       "      <td>5550</td>\n",
       "    </tr>\n",
       "  </tbody>\n",
       "</table>\n",
       "</div>"
      ],
      "text/plain": [
       "     Country/Region  4/4/20\n",
       "225              US  308850\n",
       "201           Spain  126168\n",
       "137           Italy  124632\n",
       "120         Germany   96092\n",
       "116          France   89953\n",
       "62            China   67803\n",
       "133            Iran   55743\n",
       "223  United Kingdom   41903\n",
       "213          Turkey   23934\n",
       "206     Switzerland   20505\n",
       "23          Belgium   18431\n",
       "169     Netherlands   16627\n",
       "16          Austria   11781\n",
       "184        Portugal   10524\n",
       "28           Brazil   10360\n",
       "143    Korea, South   10156\n",
       "136          Israel    7851\n",
       "205          Sweden    6443\n",
       "44           Canada    6101\n",
       "175          Norway    5550"
      ]
     },
     "execution_count": 22,
     "metadata": {},
     "output_type": "execute_result"
    }
   ],
   "source": [
    "# Top 10 países a nivel mundial.\n",
    "print(\"Top 10 países a nivel mundial\")\n",
    "data_confirmed.sort_values(by = last_day, ascending = False, inplace = True)\n",
    "print(\"Ganador: \", data_confirmed[:1][\"Country/Region\"].values[0])\n",
    "data_confirmed[[\"Country/Region\", last_day]].head(20)"
   ]
  },
  {
   "cell_type": "code",
   "execution_count": 11,
   "metadata": {},
   "outputs": [
    {
     "name": "stdout",
     "output_type": "stream",
     "text": [
      "Últimos 5 días del top 5 de países con casos confirmados.\n"
     ]
    },
    {
     "data": {
      "text/html": [
       "<div>\n",
       "<style scoped>\n",
       "    .dataframe tbody tr th:only-of-type {\n",
       "        vertical-align: middle;\n",
       "    }\n",
       "\n",
       "    .dataframe tbody tr th {\n",
       "        vertical-align: top;\n",
       "    }\n",
       "\n",
       "    .dataframe thead th {\n",
       "        text-align: right;\n",
       "    }\n",
       "</style>\n",
       "<table border=\"1\" class=\"dataframe\">\n",
       "  <thead>\n",
       "    <tr style=\"text-align: right;\">\n",
       "      <th></th>\n",
       "      <th>3/31/20</th>\n",
       "      <th>4/1/20</th>\n",
       "      <th>4/2/20</th>\n",
       "      <th>4/3/20</th>\n",
       "      <th>4/4/20</th>\n",
       "    </tr>\n",
       "  </thead>\n",
       "  <tbody>\n",
       "    <tr>\n",
       "      <th>225</th>\n",
       "      <td>188172</td>\n",
       "      <td>213372</td>\n",
       "      <td>243453</td>\n",
       "      <td>275586</td>\n",
       "      <td>308850</td>\n",
       "    </tr>\n",
       "    <tr>\n",
       "      <th>201</th>\n",
       "      <td>95923</td>\n",
       "      <td>104118</td>\n",
       "      <td>112065</td>\n",
       "      <td>119199</td>\n",
       "      <td>126168</td>\n",
       "    </tr>\n",
       "    <tr>\n",
       "      <th>137</th>\n",
       "      <td>105792</td>\n",
       "      <td>110574</td>\n",
       "      <td>115242</td>\n",
       "      <td>119827</td>\n",
       "      <td>124632</td>\n",
       "    </tr>\n",
       "    <tr>\n",
       "      <th>120</th>\n",
       "      <td>71808</td>\n",
       "      <td>77872</td>\n",
       "      <td>84794</td>\n",
       "      <td>91159</td>\n",
       "      <td>96092</td>\n",
       "    </tr>\n",
       "    <tr>\n",
       "      <th>116</th>\n",
       "      <td>52128</td>\n",
       "      <td>56989</td>\n",
       "      <td>59105</td>\n",
       "      <td>64338</td>\n",
       "      <td>89953</td>\n",
       "    </tr>\n",
       "  </tbody>\n",
       "</table>\n",
       "</div>"
      ],
      "text/plain": [
       "     3/31/20  4/1/20  4/2/20  4/3/20  4/4/20\n",
       "225   188172  213372  243453  275586  308850\n",
       "201    95923  104118  112065  119199  126168\n",
       "137   105792  110574  115242  119827  124632\n",
       "120    71808   77872   84794   91159   96092\n",
       "116    52128   56989   59105   64338   89953"
      ]
     },
     "execution_count": 11,
     "metadata": {},
     "output_type": "execute_result"
    }
   ],
   "source": [
    "# Extra:\n",
    "# loc() method is used for indexing by name.\n",
    "# iloc() is used for indexing bu number.\n",
    "print(\"Últimos 5 días del top 5 de países con casos confirmados.\")\n",
    "data_confirmed.iloc[0:5, -5:].head()"
   ]
  },
  {
   "cell_type": "code",
   "execution_count": 12,
   "metadata": {},
   "outputs": [
    {
     "data": {
      "text/html": [
       "<div>\n",
       "<style scoped>\n",
       "    .dataframe tbody tr th:only-of-type {\n",
       "        vertical-align: middle;\n",
       "    }\n",
       "\n",
       "    .dataframe tbody tr th {\n",
       "        vertical-align: top;\n",
       "    }\n",
       "\n",
       "    .dataframe thead th {\n",
       "        text-align: right;\n",
       "    }\n",
       "</style>\n",
       "<table border=\"1\" class=\"dataframe\">\n",
       "  <thead>\n",
       "    <tr style=\"text-align: right;\">\n",
       "      <th></th>\n",
       "      <th>Country/Region</th>\n",
       "      <th>Lat</th>\n",
       "      <th>Long</th>\n",
       "      <th>1/22/20</th>\n",
       "      <th>1/23/20</th>\n",
       "      <th>1/24/20</th>\n",
       "      <th>1/25/20</th>\n",
       "      <th>1/26/20</th>\n",
       "      <th>1/27/20</th>\n",
       "      <th>1/28/20</th>\n",
       "      <th>...</th>\n",
       "      <th>3/27/20</th>\n",
       "      <th>3/28/20</th>\n",
       "      <th>3/29/20</th>\n",
       "      <th>3/30/20</th>\n",
       "      <th>3/31/20</th>\n",
       "      <th>4/1/20</th>\n",
       "      <th>4/2/20</th>\n",
       "      <th>4/3/20</th>\n",
       "      <th>4/4/20</th>\n",
       "      <th>Category</th>\n",
       "    </tr>\n",
       "  </thead>\n",
       "  <tbody>\n",
       "    <tr>\n",
       "      <th>225</th>\n",
       "      <td>US</td>\n",
       "      <td>37.0902</td>\n",
       "      <td>-95.7129</td>\n",
       "      <td>1</td>\n",
       "      <td>1</td>\n",
       "      <td>2</td>\n",
       "      <td>2</td>\n",
       "      <td>5</td>\n",
       "      <td>5</td>\n",
       "      <td>5</td>\n",
       "      <td>...</td>\n",
       "      <td>101657</td>\n",
       "      <td>121478</td>\n",
       "      <td>140886</td>\n",
       "      <td>161807</td>\n",
       "      <td>188172</td>\n",
       "      <td>213372</td>\n",
       "      <td>243453</td>\n",
       "      <td>275586</td>\n",
       "      <td>308850</td>\n",
       "      <td>5</td>\n",
       "    </tr>\n",
       "    <tr>\n",
       "      <th>201</th>\n",
       "      <td>Spain</td>\n",
       "      <td>40.0000</td>\n",
       "      <td>-4.0000</td>\n",
       "      <td>0</td>\n",
       "      <td>0</td>\n",
       "      <td>0</td>\n",
       "      <td>0</td>\n",
       "      <td>0</td>\n",
       "      <td>0</td>\n",
       "      <td>0</td>\n",
       "      <td>...</td>\n",
       "      <td>65719</td>\n",
       "      <td>73235</td>\n",
       "      <td>80110</td>\n",
       "      <td>87956</td>\n",
       "      <td>95923</td>\n",
       "      <td>104118</td>\n",
       "      <td>112065</td>\n",
       "      <td>119199</td>\n",
       "      <td>126168</td>\n",
       "      <td>5</td>\n",
       "    </tr>\n",
       "    <tr>\n",
       "      <th>137</th>\n",
       "      <td>Italy</td>\n",
       "      <td>43.0000</td>\n",
       "      <td>12.0000</td>\n",
       "      <td>0</td>\n",
       "      <td>0</td>\n",
       "      <td>0</td>\n",
       "      <td>0</td>\n",
       "      <td>0</td>\n",
       "      <td>0</td>\n",
       "      <td>0</td>\n",
       "      <td>...</td>\n",
       "      <td>86498</td>\n",
       "      <td>92472</td>\n",
       "      <td>97689</td>\n",
       "      <td>101739</td>\n",
       "      <td>105792</td>\n",
       "      <td>110574</td>\n",
       "      <td>115242</td>\n",
       "      <td>119827</td>\n",
       "      <td>124632</td>\n",
       "      <td>5</td>\n",
       "    </tr>\n",
       "    <tr>\n",
       "      <th>120</th>\n",
       "      <td>Germany</td>\n",
       "      <td>51.0000</td>\n",
       "      <td>9.0000</td>\n",
       "      <td>0</td>\n",
       "      <td>0</td>\n",
       "      <td>0</td>\n",
       "      <td>0</td>\n",
       "      <td>0</td>\n",
       "      <td>1</td>\n",
       "      <td>4</td>\n",
       "      <td>...</td>\n",
       "      <td>50871</td>\n",
       "      <td>57695</td>\n",
       "      <td>62095</td>\n",
       "      <td>66885</td>\n",
       "      <td>71808</td>\n",
       "      <td>77872</td>\n",
       "      <td>84794</td>\n",
       "      <td>91159</td>\n",
       "      <td>96092</td>\n",
       "      <td>4</td>\n",
       "    </tr>\n",
       "    <tr>\n",
       "      <th>116</th>\n",
       "      <td>France</td>\n",
       "      <td>46.2276</td>\n",
       "      <td>2.2137</td>\n",
       "      <td>0</td>\n",
       "      <td>0</td>\n",
       "      <td>2</td>\n",
       "      <td>3</td>\n",
       "      <td>3</td>\n",
       "      <td>3</td>\n",
       "      <td>4</td>\n",
       "      <td>...</td>\n",
       "      <td>32964</td>\n",
       "      <td>37575</td>\n",
       "      <td>40174</td>\n",
       "      <td>44550</td>\n",
       "      <td>52128</td>\n",
       "      <td>56989</td>\n",
       "      <td>59105</td>\n",
       "      <td>64338</td>\n",
       "      <td>89953</td>\n",
       "      <td>4</td>\n",
       "    </tr>\n",
       "  </tbody>\n",
       "</table>\n",
       "<p>5 rows × 78 columns</p>\n",
       "</div>"
      ],
      "text/plain": [
       "    Country/Region      Lat     Long  1/22/20  1/23/20  1/24/20  1/25/20  \\\n",
       "225             US  37.0902 -95.7129        1        1        2        2   \n",
       "201          Spain  40.0000  -4.0000        0        0        0        0   \n",
       "137          Italy  43.0000  12.0000        0        0        0        0   \n",
       "120        Germany  51.0000   9.0000        0        0        0        0   \n",
       "116         France  46.2276   2.2137        0        0        2        3   \n",
       "\n",
       "     1/26/20  1/27/20  1/28/20  ...  3/27/20  3/28/20  3/29/20  3/30/20  \\\n",
       "225        5        5        5  ...   101657   121478   140886   161807   \n",
       "201        0        0        0  ...    65719    73235    80110    87956   \n",
       "137        0        0        0  ...    86498    92472    97689   101739   \n",
       "120        0        1        4  ...    50871    57695    62095    66885   \n",
       "116        3        3        4  ...    32964    37575    40174    44550   \n",
       "\n",
       "     3/31/20  4/1/20  4/2/20  4/3/20  4/4/20  Category  \n",
       "225   188172  213372  243453  275586  308850         5  \n",
       "201    95923  104118  112065  119199  126168         5  \n",
       "137   105792  110574  115242  119827  124632         5  \n",
       "120    71808   77872   84794   91159   96092         4  \n",
       "116    52128   56989   59105   64338   89953         4  \n",
       "\n",
       "[5 rows x 78 columns]"
      ]
     },
     "execution_count": 12,
     "metadata": {},
     "output_type": "execute_result"
    }
   ],
   "source": [
    "# Set category of Country/Region according to its number of confirmed cases.\n",
    "def classifier(number):\n",
    "    if number == 0: return 0\n",
    "    elif number > 0 and number <= 100: return 1\n",
    "    elif number > 100 and number <= 1000: return 2\n",
    "    elif number > 1000 and number <= 10000: return 3\n",
    "    elif number > 10000 and number <= 100000: return 4\n",
    "    elif number > 100000 and number <= 1000000: return 5\n",
    "    else: return 6\n",
    "data_confirmed[\"Category\"] = data_confirmed[last_day].apply(classifier)\n",
    "data_confirmed.head()"
   ]
  },
  {
   "cell_type": "code",
   "execution_count": 13,
   "metadata": {},
   "outputs": [
    {
     "name": "stdout",
     "output_type": "stream",
     "text": [
      "Estadísticas de acuerdo a la clasificación de los países.\n"
     ]
    },
    {
     "data": {
      "text/html": [
       "<div>\n",
       "<style scoped>\n",
       "    .dataframe tbody tr th:only-of-type {\n",
       "        vertical-align: middle;\n",
       "    }\n",
       "\n",
       "    .dataframe tbody tr th {\n",
       "        vertical-align: top;\n",
       "    }\n",
       "\n",
       "    .dataframe thead th {\n",
       "        text-align: right;\n",
       "    }\n",
       "</style>\n",
       "<table border=\"1\" class=\"dataframe\">\n",
       "  <thead>\n",
       "    <tr style=\"text-align: right;\">\n",
       "      <th></th>\n",
       "      <th>count</th>\n",
       "      <th>mean</th>\n",
       "      <th>std</th>\n",
       "      <th>min</th>\n",
       "      <th>25%</th>\n",
       "      <th>50%</th>\n",
       "      <th>75%</th>\n",
       "      <th>max</th>\n",
       "    </tr>\n",
       "    <tr>\n",
       "      <th>Category</th>\n",
       "      <th></th>\n",
       "      <th></th>\n",
       "      <th></th>\n",
       "      <th></th>\n",
       "      <th></th>\n",
       "      <th></th>\n",
       "      <th></th>\n",
       "      <th></th>\n",
       "    </tr>\n",
       "  </thead>\n",
       "  <tbody>\n",
       "    <tr>\n",
       "      <th>0</th>\n",
       "      <td>2.0</td>\n",
       "      <td>0.000000</td>\n",
       "      <td>0.000000</td>\n",
       "      <td>0.0</td>\n",
       "      <td>0.0</td>\n",
       "      <td>0.0</td>\n",
       "      <td>0.0</td>\n",
       "      <td>0.0</td>\n",
       "    </tr>\n",
       "    <tr>\n",
       "      <th>1</th>\n",
       "      <td>97.0</td>\n",
       "      <td>26.103093</td>\n",
       "      <td>26.387136</td>\n",
       "      <td>1.0</td>\n",
       "      <td>7.0</td>\n",
       "      <td>15.0</td>\n",
       "      <td>39.0</td>\n",
       "      <td>98.0</td>\n",
       "    </tr>\n",
       "    <tr>\n",
       "      <th>2</th>\n",
       "      <td>95.0</td>\n",
       "      <td>379.800000</td>\n",
       "      <td>248.893492</td>\n",
       "      <td>102.0</td>\n",
       "      <td>174.0</td>\n",
       "      <td>288.0</td>\n",
       "      <td>525.0</td>\n",
       "      <td>990.0</td>\n",
       "    </tr>\n",
       "    <tr>\n",
       "      <th>3</th>\n",
       "      <td>49.0</td>\n",
       "      <td>2557.755102</td>\n",
       "      <td>1623.150352</td>\n",
       "      <td>1019.0</td>\n",
       "      <td>1325.0</td>\n",
       "      <td>1746.0</td>\n",
       "      <td>3483.0</td>\n",
       "      <td>7851.0</td>\n",
       "    </tr>\n",
       "    <tr>\n",
       "      <th>4</th>\n",
       "      <td>13.0</td>\n",
       "      <td>36447.076923</td>\n",
       "      <td>31072.513675</td>\n",
       "      <td>10156.0</td>\n",
       "      <td>11781.0</td>\n",
       "      <td>20505.0</td>\n",
       "      <td>55743.0</td>\n",
       "      <td>96092.0</td>\n",
       "    </tr>\n",
       "    <tr>\n",
       "      <th>5</th>\n",
       "      <td>3.0</td>\n",
       "      <td>186550.000000</td>\n",
       "      <td>105917.691270</td>\n",
       "      <td>124632.0</td>\n",
       "      <td>125400.0</td>\n",
       "      <td>126168.0</td>\n",
       "      <td>217509.0</td>\n",
       "      <td>308850.0</td>\n",
       "    </tr>\n",
       "  </tbody>\n",
       "</table>\n",
       "</div>"
      ],
      "text/plain": [
       "          count           mean            std       min       25%       50%  \\\n",
       "Category                                                                      \n",
       "0           2.0       0.000000       0.000000       0.0       0.0       0.0   \n",
       "1          97.0      26.103093      26.387136       1.0       7.0      15.0   \n",
       "2          95.0     379.800000     248.893492     102.0     174.0     288.0   \n",
       "3          49.0    2557.755102    1623.150352    1019.0    1325.0    1746.0   \n",
       "4          13.0   36447.076923   31072.513675   10156.0   11781.0   20505.0   \n",
       "5           3.0  186550.000000  105917.691270  124632.0  125400.0  126168.0   \n",
       "\n",
       "               75%       max  \n",
       "Category                      \n",
       "0              0.0       0.0  \n",
       "1             39.0      98.0  \n",
       "2            525.0     990.0  \n",
       "3           3483.0    7851.0  \n",
       "4          55743.0   96092.0  \n",
       "5         217509.0  308850.0  "
      ]
     },
     "execution_count": 13,
     "metadata": {},
     "output_type": "execute_result"
    }
   ],
   "source": [
    "# Describe statistics according to country category.\n",
    "print(\"Estadísticas de acuerdo a la clasificación de los países.\")\n",
    "data_confirmed.groupby([\"Category\"])[last_day].describe()"
   ]
  },
  {
   "cell_type": "code",
   "execution_count": 14,
   "metadata": {},
   "outputs": [
    {
     "data": {
      "text/plain": [
       "1    97\n",
       "2    95\n",
       "3    49\n",
       "4    13\n",
       "5     3\n",
       "0     2\n",
       "Name: Category, dtype: int64"
      ]
     },
     "execution_count": 14,
     "metadata": {},
     "output_type": "execute_result"
    }
   ],
   "source": [
    "data_confirmed[\"Category\"].value_counts()"
   ]
  },
  {
   "cell_type": "code",
   "execution_count": 15,
   "metadata": {},
   "outputs": [
    {
     "data": {
      "image/png": "[encoded data removed]",
      "text/plain": [
       "<Figure size 432x288 with 1 Axes>"
      ]
     },
     "metadata": {
      "image/png": {
       "height": 281,
       "width": 392
      },
      "needs_background": "light"
     },
     "output_type": "display_data"
    }
   ],
   "source": [
    "# Plot categories.\n",
    "sns.countplot(x = \"Category\", saturation = .7, data = data_confirmed)\n",
    "plt.title(\"Número de países por categoría\")\n",
    "plt.show()"
   ]
  },
  {
   "cell_type": "markdown",
   "metadata": {},
   "source": [
    "### Topic 2. Visual Data Analysis."
   ]
  },
  {
   "cell_type": "code",
   "execution_count": 21,
   "metadata": {},
   "outputs": [
    {
     "name": "stdout",
     "output_type": "stream",
     "text": [
      "Histogramas de los últimos 4 días del top 20 de países.\n"
     ]
    },
    {
     "data": {
      "image/png": "[encoded data removed]",
      "text/plain": [
       "<Figure size 576x576 with 4 Axes>"
      ]
     },
     "metadata": {
      "image/png": {
       "height": 483,
       "width": 486
      },
      "needs_background": "light"
     },
     "output_type": "display_data"
    },
    {
     "name": "stdout",
     "output_type": "stream",
     "text": [
      "Distribución de los datos en el último día, top 20 países.\n"
     ]
    },
    {
     "data": {
      "image/png": "[encoded data removed]",
      "text/plain": [
       "<Figure size 432x288 with 1 Axes>"
      ]
     },
     "metadata": {
      "image/png": {
       "height": 267,
       "width": 408
      },
      "needs_background": "light"
     },
     "output_type": "display_data"
    }
   ],
   "source": [
    "print(\"Histogramas de los últimos 4 días del top 20 de países.\")\n",
    "features = data_confirmed.columns[-5:-1].values\n",
    "data_confirmed[0:19][features].hist(figsize=(8, 8))\n",
    "plt.show()\n",
    "\n",
    "print(\"Distribución de los datos en el último día, top 20 países.\")\n",
    "sns.distplot(data_confirmed[0:19][last_day])\n",
    "plt.show()"
   ]
  },
  {
   "cell_type": "markdown",
   "metadata": {},
   "source": [
    "**Nota:** Los datos atípicos son aquellos que no pertenecen al rango ($Q_{1} - 1.5 \\cdot IQR, Q_{3} + 1.5 \\cdot IQR$) donde $Q_{1}$ y $Q_{3}$ corresponden al primer y tercer cuartil respectivamente, y $IQR = Q_{3} - Q_{1}$. Éste último se denomina rango intercuartílico."
   ]
  },
  {
   "cell_type": "code",
   "execution_count": 40,
   "metadata": {},
   "outputs": [
    {
     "data": {
      "image/png": "[encoded data removed]",
      "text/plain": [
       "<Figure size 432x288 with 1 Axes>"
      ]
     },
     "metadata": {
      "needs_background": "light"
     },
     "output_type": "display_data"
    }
   ],
   "source": [
    "sns.boxplot(x=last_day, data= data_confirmed)\n",
    "plt.title(\"Distribución de casos confirmados en el último día\")\n",
    "plt.show()"
   ]
  },
  {
   "cell_type": "code",
   "execution_count": 45,
   "metadata": {},
   "outputs": [
    {
     "data": {
      "image/png": "[encoded data removed]",
      "text/plain": [
       "<Figure size 432x288 with 1 Axes>"
      ]
     },
     "metadata": {
      "needs_background": "light"
     },
     "output_type": "display_data"
    }
   ],
   "source": [
    "plt.title(\"Distribución de los países de acuerdo a su categoría y número de casos confirmados\")\n",
    "plt.scatter(data_confirmed[\"Category\"], data_confirmed[last_day])\n",
    "plt.show()"
   ]
  },
  {
   "cell_type": "markdown",
   "metadata": {},
   "source": [
    "### Topic 4. Linear Classification and Regression"
   ]
  },
  {
   "cell_type": "code",
   "execution_count": 80,
   "metadata": {},
   "outputs": [
    {
     "name": "stdout",
     "output_type": "stream",
     "text": [
      "Nuestro nuevo dataset\n"
     ]
    },
    {
     "data": {
      "text/html": [
       "<div>\n",
       "<style scoped>\n",
       "    .dataframe tbody tr th:only-of-type {\n",
       "        vertical-align: middle;\n",
       "    }\n",
       "\n",
       "    .dataframe tbody tr th {\n",
       "        vertical-align: top;\n",
       "    }\n",
       "\n",
       "    .dataframe thead th {\n",
       "        text-align: right;\n",
       "    }\n",
       "</style>\n",
       "<table border=\"1\" class=\"dataframe\">\n",
       "  <thead>\n",
       "    <tr style=\"text-align: right;\">\n",
       "      <th></th>\n",
       "      <th>Casos Confirmados</th>\n",
       "      <th>N.Dia</th>\n",
       "    </tr>\n",
       "  </thead>\n",
       "  <tbody>\n",
       "    <tr>\n",
       "      <th>1/22/20</th>\n",
       "      <td>555</td>\n",
       "      <td>0</td>\n",
       "    </tr>\n",
       "    <tr>\n",
       "      <th>1/23/20</th>\n",
       "      <td>654</td>\n",
       "      <td>1</td>\n",
       "    </tr>\n",
       "    <tr>\n",
       "      <th>1/24/20</th>\n",
       "      <td>941</td>\n",
       "      <td>2</td>\n",
       "    </tr>\n",
       "    <tr>\n",
       "      <th>1/25/20</th>\n",
       "      <td>1434</td>\n",
       "      <td>3</td>\n",
       "    </tr>\n",
       "    <tr>\n",
       "      <th>1/26/20</th>\n",
       "      <td>2118</td>\n",
       "      <td>4</td>\n",
       "    </tr>\n",
       "  </tbody>\n",
       "</table>\n",
       "</div>"
      ],
      "text/plain": [
       "         Casos Confirmados  N.Dia\n",
       "1/22/20                555      0\n",
       "1/23/20                654      1\n",
       "1/24/20                941      2\n",
       "1/25/20               1434      3\n",
       "1/26/20               2118      4"
      ]
     },
     "execution_count": 80,
     "metadata": {},
     "output_type": "execute_result"
    }
   ],
   "source": [
    "print(\"Nuestro nuevo dataset\")\n",
    "columns_ = data_confirmed.columns[3: -1]\n",
    "df = pd.DataFrame(columns = columns_)\n",
    "for column_name in columns_:\n",
    "    df[column_name] = pd.Series(data_confirmed[column_name].sum())\n",
    "df = df.transpose()\n",
    "df.columns = [\"Casos Confirmados\"]\n",
    "df[\"N.Dia\"] = np.arange(len(df.index.values))\n",
    "df.head()"
   ]
  },
  {
   "cell_type": "code",
   "execution_count": 82,
   "metadata": {},
   "outputs": [
    {
     "data": {
      "image/png": "[encoded data removed]",
      "text/plain": [
       "<Figure size 432x288 with 1 Axes>"
      ]
     },
     "metadata": {
      "image/png": {
       "height": 281,
       "width": 418
      },
      "needs_background": "light"
     },
     "output_type": "display_data"
    }
   ],
   "source": [
    "df[\"Casos Confirmados\"].plot(title = \"Número de casos confirmados a nivel mundial\", logy = False)\n",
    "plt.xlabel(\"Fecha\")\n",
    "plt.ylabel(\"# de Casos\")\n",
    "plt.show()"
   ]
  },
  {
   "cell_type": "markdown",
   "metadata": {},
   "source": [
    "#### Regresión Lineal."
   ]
  },
  {
   "cell_type": "code",
   "execution_count": null,
   "metadata": {},
   "outputs": [],
   "source": [
    "from sklearn import linear_model \n",
    "from sklearn.model_selection import train_test_split\n"
   ]
  },
  {
   "cell_type": "code",
   "execution_count": 87,
   "metadata": {
    "scrolled": true
   },
   "outputs": [
    {
     "data": {
      "text/plain": [
       "1/22/20        555\n",
       "1/23/20        654\n",
       "1/24/20        941\n",
       "1/25/20       1434\n",
       "1/26/20       2118\n",
       "            ...   \n",
       "3/31/20     857487\n",
       "4/1/20      932605\n",
       "4/2/20     1013157\n",
       "4/3/20     1095917\n",
       "4/4/20     1197405\n",
       "Name: Casos Confirmados, Length: 74, dtype: int64"
      ]
     },
     "execution_count": 87,
     "metadata": {},
     "output_type": "execute_result"
    }
   ],
   "source": [
    "df[\"Casos Confirmados\"]\n"
   ]
  },
  {
   "cell_type": "code",
   "execution_count": null,
   "metadata": {},
   "outputs": [],
   "source": [
    "X_train, X_test, y_train, y_test = train_test_split(X, y, test_size = 0.8, random_state = 0)X"
   ]
  },
  {
   "cell_type": "code",
   "execution_count": null,
   "metadata": {},
   "outputs": [],
   "source": []
  },
  {
   "cell_type": "code",
   "execution_count": null,
   "metadata": {},
   "outputs": [],
   "source": []
  },
  {
   "cell_type": "code",
   "execution_count": null,
   "metadata": {},
   "outputs": [],
   "source": []
  },
  {
   "cell_type": "code",
   "execution_count": null,
   "metadata": {},
   "outputs": [],
   "source": []
  },
  {
   "cell_type": "code",
   "execution_count": 23,
   "metadata": {},
   "outputs": [
    {
     "data": {
      "text/html": [
       "<div>\n",
       "<style scoped>\n",
       "    .dataframe tbody tr th:only-of-type {\n",
       "        vertical-align: middle;\n",
       "    }\n",
       "\n",
       "    .dataframe tbody tr th {\n",
       "        vertical-align: top;\n",
       "    }\n",
       "\n",
       "    .dataframe thead th {\n",
       "        text-align: right;\n",
       "    }\n",
       "</style>\n",
       "<table border=\"1\" class=\"dataframe\">\n",
       "  <thead>\n",
       "    <tr style=\"text-align: right;\">\n",
       "      <th></th>\n",
       "      <th>Confirmed</th>\n",
       "      <th>Deaths</th>\n",
       "    </tr>\n",
       "  </thead>\n",
       "  <tbody>\n",
       "    <tr>\n",
       "      <th>3/19/20</th>\n",
       "      <td>102</td>\n",
       "      <td>0</td>\n",
       "    </tr>\n",
       "    <tr>\n",
       "      <th>3/20/20</th>\n",
       "      <td>128</td>\n",
       "      <td>0</td>\n",
       "    </tr>\n",
       "    <tr>\n",
       "      <th>3/21/20</th>\n",
       "      <td>196</td>\n",
       "      <td>0</td>\n",
       "    </tr>\n",
       "    <tr>\n",
       "      <th>3/22/20</th>\n",
       "      <td>231</td>\n",
       "      <td>2</td>\n",
       "    </tr>\n",
       "    <tr>\n",
       "      <th>3/23/20</th>\n",
       "      <td>277</td>\n",
       "      <td>3</td>\n",
       "    </tr>\n",
       "  </tbody>\n",
       "</table>\n",
       "</div>"
      ],
      "text/plain": [
       "        Confirmed Deaths\n",
       "3/19/20       102      0\n",
       "3/20/20       128      0\n",
       "3/21/20       196      0\n",
       "3/22/20       231      2\n",
       "3/23/20       277      3"
      ]
     },
     "execution_count": 23,
     "metadata": {},
     "output_type": "execute_result"
    }
   ],
   "source": [
    "# Get Colombia rows.\n",
    "countries = data_confirmed[\"Country/Region\"]\n",
    "country_index = countries[countries == \"Colombia\"].index[0]\n",
    "confirmed = data_confirmed.iloc[country_index][3:]\n",
    "deaths = data_deaths.iloc[country_index][3:]\n",
    "\n",
    "frame = {\"Confirmed\": confirmed, \"Deaths\": deaths}\n",
    "data_colombia = pd.DataFrame(frame)\n",
    "data_colombia.tail()"
   ]
  },
  {
   "cell_type": "code",
   "execution_count": 17,
   "metadata": {},
   "outputs": [],
   "source": [
    "# Load map data.\n",
    "map_data = data_confirmed[[\"Country/Region\", \"Lat\", \"Long\", \"3/23/20\"]]\n",
    "\n",
    "m = folium.Map(\n",
    "    location = [18.630931, -26.015119],\n",
    "    zoom_start = 2\n",
    ")\n",
    "\n",
    "for i in range(0, len(map_data)):\n",
    "    folium.Circle(\n",
    "        radius = map_data.iloc[i][3] / 10,\n",
    "        location = [map_data.iloc[i][\"Lat\"], map_data.iloc[i][\"Long\"]],\n",
    "        color = \"red\",\n",
    "        fill = False, \n",
    "        popup = map_data.iloc[i][3]\n",
    "    ).add_to(m)"
   ]
  },
  {
   "cell_type": "code",
   "execution_count": 18,
   "metadata": {},
   "outputs": [
    {
     "data": {
      "image/png": "[encoded data removed]",
      "text/plain": [
       "<Figure size 576x288 with 1 Axes>"
      ]
     },
     "metadata": {
      "needs_background": "light"
     },
     "output_type": "display_data"
    }
   ],
   "source": [
    "# Plot graph.\n",
    "data_colombia.plot(\n",
    "    title = \"Coronavirus Colombia\", \n",
    "    figsize = (8, 4), \n",
    "    legend = True, \n",
    "    #yticks = data_confirmed_colombia[\"Colombia\"].values,\n",
    "    use_index = True\n",
    ")\n",
    "plt.xlabel(\"Fecha\")\n",
    "plt.ylabel(\"# de Casos Confirmados\")\n",
    "plt.show()"
   ]
  },
  {
   "cell_type": "code",
   "execution_count": 21,
   "metadata": {},
   "outputs": [
    {
     "data": {
      "image/png": "[encoded data removed]",
      "text/plain": [
       "<Figure size 576x288 with 1 Axes>"
      ]
     },
     "metadata": {
      "needs_background": "light"
     },
     "output_type": "display_data"
    }
   ],
   "source": [
    "# Rate change per day.\n",
    "rate_of_change = data_colombia.pct_change()\n",
    "rate_of_change[\"num\"] = np.arange(len(rate_of_change))\n",
    "\n",
    "rate_of_change.plot.scatter(\n",
    "    x = \"num\", \n",
    "    y = \"Confirmed\",\n",
    "    figsize = (8, 4), \n",
    "    title = \"Tasa de Contagio por Día\"\n",
    "\n",
    ")\n",
    "\n",
    "plt.xlabel(\"Fecha\")\n",
    "plt.ylabel(\"%\")\n",
    "\n",
    "plt.axvline(x = 57, color = \"red\")\n",
    "plt.axvline(x = 61, color = \"green\")\n",
    "plt.legend([\"Día de inicio del simulacro preventivo\", \"Día de inicio del aislamiento obligatorio\"])\n",
    "plt.show()"
   ]
  },
  {
   "cell_type": "code",
   "execution_count": 64,
   "metadata": {},
   "outputs": [],
   "source": [
    "from sklearn import linear_model \n",
    "\n",
    "data_colombia[\"num\"] = np.arange(len(data_colombia))\n",
    "X = data_colombia[\"num\"]\n",
    "y = data_colombia[\"Confirmed\"]\n",
    "\n",
    "from sklearn import linear_model \n",
    "\n",
    "\n",
    "from sklearn.model_selection import train_test_split\n",
    "X_train, X_test, y_train, y_test = train_test_split(X, y, test_size = 0.8, random_state = 0)"
   ]
  },
  {
   "cell_type": "code",
   "execution_count": 66,
   "metadata": {},
   "outputs": [
    {
     "data": {
      "text/plain": [
       "2/27/20    36\n",
       "3/12/20    50\n",
       "2/12/20    21\n",
       "2/10/20    19\n",
       "1/31/20     9\n",
       "3/1/20     39\n",
       "3/19/20    57\n",
       "1/25/20     3\n",
       "1/22/20     0\n",
       "3/15/20    53\n",
       "3/9/20     47\n",
       "3/6/20     44\n",
       "Name: num, dtype: int32"
      ]
     },
     "execution_count": 66,
     "metadata": {},
     "output_type": "execute_result"
    }
   ],
   "source": [
    "X_train"
   ]
  },
  {
   "cell_type": "code",
   "execution_count": 65,
   "metadata": {},
   "outputs": [
    {
     "ename": "ValueError",
     "evalue": "Expected 2D array, got 1D array instead:\narray=[36 50 21 19  9 39 57  3  0 53 47 44].\nReshape your data either using array.reshape(-1, 1) if your data has a single feature or array.reshape(1, -1) if it contains a single sample.",
     "output_type": "error",
     "traceback": [
      "\u001b[1;31m---------------------------------------------------------------------------\u001b[0m",
      "\u001b[1;31mValueError\u001b[0m                                Traceback (most recent call last)",
      "\u001b[1;32m<ipython-input-65-03c96777c091>\u001b[0m in \u001b[0;36m<module>\u001b[1;34m\u001b[0m\n\u001b[0;32m      1\u001b[0m \u001b[0mreg\u001b[0m \u001b[1;33m=\u001b[0m \u001b[0mlinear_model\u001b[0m\u001b[1;33m.\u001b[0m\u001b[0mLinearRegression\u001b[0m\u001b[1;33m(\u001b[0m\u001b[1;33m)\u001b[0m\u001b[1;33m\u001b[0m\u001b[1;33m\u001b[0m\u001b[0m\n\u001b[1;32m----> 2\u001b[1;33m \u001b[0mreg\u001b[0m\u001b[1;33m.\u001b[0m\u001b[0mfit\u001b[0m\u001b[1;33m(\u001b[0m\u001b[0mX_train\u001b[0m\u001b[1;33m,\u001b[0m \u001b[0my_train\u001b[0m\u001b[1;33m)\u001b[0m\u001b[1;33m\u001b[0m\u001b[1;33m\u001b[0m\u001b[0m\n\u001b[0m",
      "\u001b[1;32mF:\\Users\\JuanCepeda\\Anaconda3\\lib\\site-packages\\sklearn\\linear_model\\base.py\u001b[0m in \u001b[0;36mfit\u001b[1;34m(self, X, y, sample_weight)\u001b[0m\n\u001b[0;32m    461\u001b[0m         \u001b[0mn_jobs_\u001b[0m \u001b[1;33m=\u001b[0m \u001b[0mself\u001b[0m\u001b[1;33m.\u001b[0m\u001b[0mn_jobs\u001b[0m\u001b[1;33m\u001b[0m\u001b[1;33m\u001b[0m\u001b[0m\n\u001b[0;32m    462\u001b[0m         X, y = check_X_y(X, y, accept_sparse=['csr', 'csc', 'coo'],\n\u001b[1;32m--> 463\u001b[1;33m                          y_numeric=True, multi_output=True)\n\u001b[0m\u001b[0;32m    464\u001b[0m \u001b[1;33m\u001b[0m\u001b[0m\n\u001b[0;32m    465\u001b[0m         \u001b[1;32mif\u001b[0m \u001b[0msample_weight\u001b[0m \u001b[1;32mis\u001b[0m \u001b[1;32mnot\u001b[0m \u001b[1;32mNone\u001b[0m \u001b[1;32mand\u001b[0m \u001b[0mnp\u001b[0m\u001b[1;33m.\u001b[0m\u001b[0matleast_1d\u001b[0m\u001b[1;33m(\u001b[0m\u001b[0msample_weight\u001b[0m\u001b[1;33m)\u001b[0m\u001b[1;33m.\u001b[0m\u001b[0mndim\u001b[0m \u001b[1;33m>\u001b[0m \u001b[1;36m1\u001b[0m\u001b[1;33m:\u001b[0m\u001b[1;33m\u001b[0m\u001b[1;33m\u001b[0m\u001b[0m\n",
      "\u001b[1;32mF:\\Users\\JuanCepeda\\Anaconda3\\lib\\site-packages\\sklearn\\utils\\validation.py\u001b[0m in \u001b[0;36mcheck_X_y\u001b[1;34m(X, y, accept_sparse, accept_large_sparse, dtype, order, copy, force_all_finite, ensure_2d, allow_nd, multi_output, ensure_min_samples, ensure_min_features, y_numeric, warn_on_dtype, estimator)\u001b[0m\n\u001b[0;32m    717\u001b[0m                     \u001b[0mensure_min_features\u001b[0m\u001b[1;33m=\u001b[0m\u001b[0mensure_min_features\u001b[0m\u001b[1;33m,\u001b[0m\u001b[1;33m\u001b[0m\u001b[1;33m\u001b[0m\u001b[0m\n\u001b[0;32m    718\u001b[0m                     \u001b[0mwarn_on_dtype\u001b[0m\u001b[1;33m=\u001b[0m\u001b[0mwarn_on_dtype\u001b[0m\u001b[1;33m,\u001b[0m\u001b[1;33m\u001b[0m\u001b[1;33m\u001b[0m\u001b[0m\n\u001b[1;32m--> 719\u001b[1;33m                     estimator=estimator)\n\u001b[0m\u001b[0;32m    720\u001b[0m     \u001b[1;32mif\u001b[0m \u001b[0mmulti_output\u001b[0m\u001b[1;33m:\u001b[0m\u001b[1;33m\u001b[0m\u001b[1;33m\u001b[0m\u001b[0m\n\u001b[0;32m    721\u001b[0m         y = check_array(y, 'csr', force_all_finite=True, ensure_2d=False,\n",
      "\u001b[1;32mF:\\Users\\JuanCepeda\\Anaconda3\\lib\\site-packages\\sklearn\\utils\\validation.py\u001b[0m in \u001b[0;36mcheck_array\u001b[1;34m(array, accept_sparse, accept_large_sparse, dtype, order, copy, force_all_finite, ensure_2d, allow_nd, ensure_min_samples, ensure_min_features, warn_on_dtype, estimator)\u001b[0m\n\u001b[0;32m    519\u001b[0m                     \u001b[1;34m\"Reshape your data either using array.reshape(-1, 1) if \"\u001b[0m\u001b[1;33m\u001b[0m\u001b[1;33m\u001b[0m\u001b[0m\n\u001b[0;32m    520\u001b[0m                     \u001b[1;34m\"your data has a single feature or array.reshape(1, -1) \"\u001b[0m\u001b[1;33m\u001b[0m\u001b[1;33m\u001b[0m\u001b[0m\n\u001b[1;32m--> 521\u001b[1;33m                     \"if it contains a single sample.\".format(array))\n\u001b[0m\u001b[0;32m    522\u001b[0m \u001b[1;33m\u001b[0m\u001b[0m\n\u001b[0;32m    523\u001b[0m         \u001b[1;31m# in the future np.flexible dtypes will be handled like object dtypes\u001b[0m\u001b[1;33m\u001b[0m\u001b[1;33m\u001b[0m\u001b[1;33m\u001b[0m\u001b[0m\n",
      "\u001b[1;31mValueError\u001b[0m: Expected 2D array, got 1D array instead:\narray=[36 50 21 19  9 39 57  3  0 53 47 44].\nReshape your data either using array.reshape(-1, 1) if your data has a single feature or array.reshape(1, -1) if it contains a single sample."
     ]
    }
   ],
   "source": [
    "reg = linear_model.LinearRegression()\n",
    "reg.fit(X_train, y_train)"
   ]
  },
  {
   "cell_type": "code",
   "execution_count": 57,
   "metadata": {},
   "outputs": [
    {
     "name": "stdout",
     "output_type": "stream",
     "text": [
      "Help on method predict in module sklearn.linear_model.base:\n",
      "\n",
      "predict(X) method of sklearn.linear_model.base.LinearRegression instance\n",
      "    Predict using the linear model\n",
      "    \n",
      "    Parameters\n",
      "    ----------\n",
      "    X : array_like or sparse matrix, shape (n_samples, n_features)\n",
      "        Samples.\n",
      "    \n",
      "    Returns\n",
      "    -------\n",
      "    C : array, shape (n_samples,)\n",
      "        Returns predicted values.\n",
      "\n"
     ]
    }
   ],
   "source": [
    "help(reg.predict)"
   ]
  },
  {
   "cell_type": "code",
   "execution_count": null,
   "metadata": {},
   "outputs": [],
   "source": []
  }
 ],
 "metadata": {
  "kernelspec": {
   "display_name": "Python 3",
   "language": "python",
   "name": "python3"
  },
  "language_info": {
   "codemirror_mode": {
    "name": "ipython",
    "version": 3
   },
   "file_extension": ".py",
   "mimetype": "text/x-python",
   "name": "python",
   "nbconvert_exporter": "python",
   "pygments_lexer": "ipython3",
   "version": "3.7.3"
  }
 },
 "nbformat": 4,
 "nbformat_minor": 2
}
